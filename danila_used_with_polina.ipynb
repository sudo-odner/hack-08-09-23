{
 "cells": [
  {
   "cell_type": "code",
   "execution_count": 1,
   "id": "32613d59-9a2e-4756-bc54-d84ce8813a4f",
   "metadata": {},
   "outputs": [
    {
     "name": "stdout",
     "output_type": "stream",
     "text": [
      "Collecting python-docx\n",
      "  Downloading python-docx-0.8.11.tar.gz (5.6 MB)\n",
      "     ---------------------------------------- 0.0/5.6 MB ? eta -:--:--\n",
      "     ---------------------------------------- 0.0/5.6 MB ? eta -:--:--\n",
      "     ---------------------------------------- 0.0/5.6 MB 435.7 kB/s eta 0:00:13\n",
      "      --------------------------------------- 0.1/5.6 MB 744.7 kB/s eta 0:00:08\n",
      "     - -------------------------------------- 0.2/5.6 MB 1.4 MB/s eta 0:00:04\n",
      "     ---- ----------------------------------- 0.6/5.6 MB 2.7 MB/s eta 0:00:02\n",
      "     ----------- ---------------------------- 1.6/5.6 MB 6.0 MB/s eta 0:00:01\n",
      "     ------------------------- -------------- 3.6/5.6 MB 10.9 MB/s eta 0:00:01\n",
      "     ----------------------------------- ---- 5.0/5.6 MB 13.3 MB/s eta 0:00:01\n",
      "     ---------------------------------------  5.6/5.6 MB 14.2 MB/s eta 0:00:01\n",
      "     ---------------------------------------- 5.6/5.6 MB 12.7 MB/s eta 0:00:00\n",
      "  Preparing metadata (setup.py): started\n",
      "  Preparing metadata (setup.py): finished with status 'done'\n",
      "Requirement already satisfied: lxml>=2.3.2 in c:\\users\\nazarova polina\\anaconda3\\envs\\hack_nighniy_novgorod\\lib\\site-packages (from python-docx) (4.9.2)\n",
      "Building wheels for collected packages: python-docx\n",
      "  Building wheel for python-docx (setup.py): started\n",
      "  Building wheel for python-docx (setup.py): finished with status 'done'\n",
      "  Created wheel for python-docx: filename=python_docx-0.8.11-py3-none-any.whl size=184519 sha256=ccbf7a42a0e9944540d3478bfbe53d68f78a0b64821b7bcf530a2bbdc1129a74\n",
      "  Stored in directory: c:\\users\\nazarova polina\\appdata\\local\\pip\\cache\\wheels\\32\\b8\\b2\\c4c2b95765e615fe139b0b17b5ea7c0e1b6519b0a9ec8fb34d\n",
      "Successfully built python-docx\n",
      "Installing collected packages: python-docx\n",
      "Successfully installed python-docx-0.8.11\n",
      "Requirement already satisfied: numpy in c:\\users\\nazarova polina\\anaconda3\\envs\\hack_nighniy_novgorod\\lib\\site-packages (1.24.3)\n",
      "Requirement already satisfied: pandas in c:\\users\\nazarova polina\\anaconda3\\envs\\hack_nighniy_novgorod\\lib\\site-packages (2.0.3)\n",
      "Requirement already satisfied: python-dateutil>=2.8.2 in c:\\users\\nazarova polina\\anaconda3\\envs\\hack_nighniy_novgorod\\lib\\site-packages (from pandas) (2.8.2)\n",
      "Requirement already satisfied: pytz>=2020.1 in c:\\users\\nazarova polina\\anaconda3\\envs\\hack_nighniy_novgorod\\lib\\site-packages (from pandas) (2022.7)\n",
      "Requirement already satisfied: tzdata>=2022.1 in c:\\users\\nazarova polina\\anaconda3\\envs\\hack_nighniy_novgorod\\lib\\site-packages (from pandas) (2023.3)\n",
      "Requirement already satisfied: numpy>=1.20.3 in c:\\users\\nazarova polina\\anaconda3\\envs\\hack_nighniy_novgorod\\lib\\site-packages (from pandas) (1.24.3)\n",
      "Requirement already satisfied: six>=1.5 in c:\\users\\nazarova polina\\anaconda3\\envs\\hack_nighniy_novgorod\\lib\\site-packages (from python-dateutil>=2.8.2->pandas) (1.16.0)\n",
      "Collecting geopy\n",
      "  Obtaining dependency information for geopy from https://files.pythonhosted.org/packages/e1/58/9289c6a03116025cdb61461d99b2493daa4967a80b13755463d71a0affeb/geopy-2.4.0-py3-none-any.whl.metadata\n",
      "  Downloading geopy-2.4.0-py3-none-any.whl.metadata (6.8 kB)\n",
      "Collecting geographiclib<3,>=1.52 (from geopy)\n",
      "  Downloading geographiclib-2.0-py3-none-any.whl (40 kB)\n",
      "     ---------------------------------------- 0.0/40.3 kB ? eta -:--:--\n",
      "     ---------- ----------------------------- 10.2/40.3 kB ? eta -:--:--\n",
      "     -------------------------------------- 40.3/40.3 kB 385.7 kB/s eta 0:00:00\n",
      "Downloading geopy-2.4.0-py3-none-any.whl (125 kB)\n",
      "   ---------------------------------------- 0.0/125.4 kB ? eta -:--:--\n",
      "   ----------------------------------- ---- 112.6/125.4 kB 2.2 MB/s eta 0:00:01\n",
      "   ---------------------------------------- 125.4/125.4 kB 1.8 MB/s eta 0:00:00\n",
      "Installing collected packages: geographiclib, geopy\n",
      "Successfully installed geographiclib-2.0 geopy-2.4.0\n"
     ]
    }
   ],
   "source": [
    "!pip install python-docx\n",
    "!pip install numpy\n",
    "!pip install pandas\n",
    "!pip install geopy"
   ]
  },
  {
   "cell_type": "code",
   "execution_count": 306,
   "id": "703b9684-860b-4070-a64d-d8c06c9cad7a",
   "metadata": {},
   "outputs": [],
   "source": [
    "import docx\n",
    "import numpy as np\n",
    "import pandas as pd\n",
    "from geopy.distance import geodesic\n",
    "import json"
   ]
  },
  {
   "cell_type": "code",
   "execution_count": 295,
   "id": "74680b3a-b633-48de-8289-4b41780ae9d2",
   "metadata": {},
   "outputs": [],
   "source": [
    "icebreakers_docx = docx.Document(\"dataset/перечень_ледоколов.docx\")\n",
    "applications_docx = docx.Document(\"dataset/перечень_заявок.docx\")\n",
    "rib_accessibility_docx = docx.Document(\"dataset/доступность_ребра.docx\")\n",
    "monthly_ice_concentration_docx = docx.Document(\"dataset/сплоченность_лда.docx\")"
   ]
  },
  {
   "cell_type": "code",
   "execution_count": 296,
   "id": "62367c9b-bbaf-4730-93e4-7d48ca10d655",
   "metadata": {},
   "outputs": [],
   "source": [
    "data_table = [monthly_ice_concentration_docx, icebreakers_docx, applications_docx, rib_accessibility_docx]"
   ]
  },
  {
   "cell_type": "code",
   "execution_count": 297,
   "id": "af9a1c14-6c1a-4d1c-9e0c-87949431126c",
   "metadata": {},
   "outputs": [],
   "source": [
    "all_data = list()\n",
    "for table_docx in data_table:\n",
    "    data = list()\n",
    "    for table in table_docx.tables:\n",
    "        data_table = list()\n",
    "        for row in table.rows:\n",
    "            data_row = list()\n",
    "            for cell in row.cells:\n",
    "                cell_text = cell.text\n",
    "                data_row.append(cell_text)\n",
    "            data_table.append(data_row)\n",
    "        data.append(data_table)\n",
    "    all_data.append(data)"
   ]
  },
  {
   "cell_type": "code",
   "execution_count": 298,
   "id": "b119b968-d0f7-49e3-89e3-aad89318deb3",
   "metadata": {},
   "outputs": [],
   "source": [
    "monthly_ice_concentration, icebreakers, applications, rib_accessibility = all_data[0][0], all_data[1][0], all_data[2][0], all_data[3][0]"
   ]
  },
  {
   "cell_type": "code",
   "execution_count": 299,
   "id": "24f1ede5-f58c-497b-ba08-7b3204b2b6cf",
   "metadata": {},
   "outputs": [
    {
     "data": {
      "text/plain": [
       "array([[0, 0, 0, 0, 0, 0, 0, 0, 0, 0, 0, 0, 0, 0, 0, 1, 1, 1, 1, 1, 1, 1,\n",
       "        1, 1, 1, 1, 1, 1, 1, 2],\n",
       "       [0, 1, 1, 1, 1, 2, 2, 2, 2, 2, 2, 2, 2, 3, 3, 3, 3, 3, 3, 3, 4, 4,\n",
       "        4, 4, 4, 4, 4, 5, 5, 5],\n",
       "       [1, 1, 1, 1, 2, 2, 2, 2, 2, 2, 3, 3, 3, 3, 3, 3, 3, 4, 4, 4, 4, 4,\n",
       "        5, 5, 5, 5, 6, 6, 6, 6],\n",
       "       [0, 0, 0, 0, 0, 0, 0, 0, 0, 0, 0, 0, 0, 0, 0, 1, 1, 1, 1, 1, 1, 1,\n",
       "        1, 1, 1, 1, 1, 1, 1, 2],\n",
       "       [0, 0, 0, 0, 0, 0, 0, 0, 0, 0, 0, 0, 0, 0, 1, 1, 1, 1, 1, 1, 1, 1,\n",
       "        1, 1, 1, 1, 1, 1, 2, 2],\n",
       "       [0, 0, 0, 1, 1, 1, 1, 1, 1, 1, 1, 1, 2, 2, 2, 2, 2, 3, 3, 3, 3, 3,\n",
       "        4, 4, 4, 4, 4, 5, 5, 6],\n",
       "       [1, 1, 1, 2, 2, 2, 2, 2, 2, 3, 3, 3, 3, 3, 3, 4, 4, 4, 4, 4, 5, 5,\n",
       "        5, 5, 6, 6, 6, 6, 6, 7],\n",
       "       [1, 1, 2, 2, 2, 2, 2, 2, 3, 3, 3, 3, 3, 3, 4, 4, 4, 4, 4, 5, 5, 5,\n",
       "        5, 6, 6, 6, 6, 6, 7, 7],\n",
       "       [2, 2, 2, 2, 3, 3, 3, 3, 4, 4, 4, 4, 4, 5, 5, 5, 5, 5, 6, 6, 6, 6,\n",
       "        7, 7, 7, 7, 7, 8, 8, 8],\n",
       "       [2, 2, 2, 3, 3, 3, 3, 4, 4, 4, 4, 4, 5, 5, 5, 5, 5, 6, 6, 6, 6, 7,\n",
       "        7, 7, 7, 7, 7, 8, 8, 8],\n",
       "       [3, 3, 3, 3, 3, 3, 3, 3, 4, 4, 4, 5, 5, 5, 5, 5, 6, 6, 6, 6, 7, 7,\n",
       "        7, 7, 7, 7, 7, 7, 7, 7],\n",
       "       [3, 3, 3, 3, 3, 3, 3, 3, 4, 4, 4, 5, 5, 5, 5, 5, 6, 6, 6, 6, 7, 7,\n",
       "        7, 7, 7, 7, 7, 7, 7, 7],\n",
       "       [3, 3, 3, 3, 3, 3, 3, 3, 4, 4, 4, 5, 5, 5, 5, 5, 6, 6, 6, 6, 7, 7,\n",
       "        7, 7, 7, 7, 7, 7, 7, 7],\n",
       "       [3, 3, 3, 3, 3, 3, 3, 3, 4, 4, 4, 4, 4, 4, 4, 5, 5, 5, 5, 5, 5, 6,\n",
       "        6, 6, 6, 7, 7, 7, 8, 9]])"
      ]
     },
     "execution_count": 299,
     "metadata": {},
     "output_type": "execute_result"
    }
   ],
   "source": [
    "monthly_ice_concentration = np.array(monthly_ice_concentration)[2:]\n",
    "monthly_ice_concentration = np.delete(monthly_ice_concentration, 0, axis=1)\n",
    "monthly_ice_concentration = monthly_ice_concentration.astype(int)\n",
    "monthly_ice_concentration"
   ]
  },
  {
   "cell_type": "code",
   "execution_count": 300,
   "id": "20e237d1-6b90-49c7-8fe3-a3a7e8f89943",
   "metadata": {},
   "outputs": [
    {
     "data": {
      "text/plain": [
       "array([['50 лет Победы', '9152959'],\n",
       "       ['Ямал', '9077549'],\n",
       "       ['Таймыр', '8417481'],\n",
       "       ['Вайгач', '8417493']], dtype='<U13')"
      ]
     },
     "execution_count": 300,
     "metadata": {},
     "output_type": "execute_result"
    }
   ],
   "source": [
    "icebreakers = np.array(icebreakers)[1:]\n",
    "icebreakers"
   ]
  },
  {
   "cell_type": "code",
   "execution_count": 301,
   "id": "1f367051-1c0b-41e5-b2ea-7406044b1bfc",
   "metadata": {},
   "outputs": [
    {
     "data": {
      "text/plain": [
       "array([['Штурман Альбанов', '9752084', 'Arc7', '15',\n",
       "        'точка в Баренцевом море', 'Саббета 3', '01.01.21 23:30',\n",
       "        '05.01.21 5:00'],\n",
       "       ['Штурман Альбанов', '9752084', 'Arc7', '15', 'Саббета 3',\n",
       "        'точка в Баренцевом море', '06.01.21 11:00', '10.01.21 18:00'],\n",
       "       ['Штурман Альбанов', '9752084', 'Arc7', '15',\n",
       "        'точка в Баренцевом море', 'Саббета 3', '12.01.21 18:00',\n",
       "        '16.01.21 22:00'],\n",
       "       ['Штурман Альбанов', '9752084', 'Arc7', '15', 'Саббета 3',\n",
       "        'точка в Баренцевом море', '17.01.21 6:00', '21.01.21 20:45'],\n",
       "       ['Штурман Альбанов', '9752084', 'Arc7', '15',\n",
       "        'точка в Баренцевом море', 'Саббета 3', '21.01.21 9:00',\n",
       "        '26.01.21 22:00'],\n",
       "       ['Штурман Альбанов', '9752084', 'Arc7', '15', 'Саббета 3',\n",
       "        'точка в Баренцевом море', '28.01.21 1:00', '02.02.21 19:00'],\n",
       "       ['Штурман Кошелев', '9759939', 'Arc7', '15', 'Саббета 3',\n",
       "        'точка в Баренцевом море', '02.01.21 20:30', '06.01.21 7:00'],\n",
       "       ['Штурман Кошелев', '9759939', 'Arc7', '15',\n",
       "        'точка в Баренцевом море', 'Саббета 3', '07.01.21 19:00',\n",
       "        '11.01.21 3:20'],\n",
       "       ['Штурман Кошелев', '9759939', 'Arc7', '15', 'Саббета 3',\n",
       "        'точка в Баренцевом море', '13.01.21 16:00', '17.01.21 14:00'],\n",
       "       ['Штурман Кошелев', '9759939', 'Arc7', '15',\n",
       "        'точка в Баренцевом море', 'Саббета 3', '17.01.21 13:00',\n",
       "        '21.01.21 16:20'],\n",
       "       ['Штурман Кошелев', '9759939', 'Arc7', '15', 'Саббета 3',\n",
       "        'точка в Баренцевом море', '22.01.21 7:30', '26.01.21 19:00'],\n",
       "       ['Штурман Кошелев', '9759939', 'Arc7', '15',\n",
       "        'точка в Баренцевом море', 'Саббета 3', '28.01.21 2:00',\n",
       "        '03.02.21 19:00'],\n",
       "       ['Лагорта', '9194012', 'Arc5', '15', 'точка в Баренцевом море',\n",
       "        'Саббета 3', '27.12.20 23:00', '07.01.21 17:00'],\n",
       "       ['Лагорта', '9194012', 'Arc5', '15', 'Саббета 3',\n",
       "        'точка в Баренцевом море', '20.01.21 15:00', '30.01.21 22:00'],\n",
       "       ['Михаил Лазарев', '9837547', 'Arc7', '15', 'Саббета 2',\n",
       "        'точка в Баренцевом море', '14.01.21 22:00', '18.01.21 10:00'],\n",
       "       ['Михаил Лазарев', '9837547', 'Arc7', '15',\n",
       "        'точка в Баренцевом море', 'Саббета 2', '19.01.21 12:00',\n",
       "        '23.01.21 12:00'],\n",
       "       ['Юрий Кучиев', '9804033', 'Arc7', '14', 'Саббета 1',\n",
       "        'точка в Баренцевом море', '07.01.21 0:00', '10.01.21 14:00'],\n",
       "       ['Юрий Кучиев', '9804033', 'Arc7', '14',\n",
       "        'точка в Баренцевом море', 'Саббета 1', '26.01.21 22:00',\n",
       "        '31.01.21 20:00'],\n",
       "       ['Эдуард Толль', '9750696', 'Arc7', '19',\n",
       "        'точка в Баренцевом море', 'Саббета 1', '01.01.21 17:30',\n",
       "        '04.01.21 5:00'],\n",
       "       ['Эдуард Толль', '9750696', 'Arc7', '19', 'Саббета 1',\n",
       "        'точка в Баренцевом море', '07.01.21 17:00', '11.01.21 12:30'],\n",
       "       ['Борис Давыдов', '9768394', 'Arc7', '19',\n",
       "        'точка в Баренцевом море', 'Саббета 1', '08.01.21 22:00',\n",
       "        '10.01.21 14:15'],\n",
       "       ['Владимир Воронин', '9750737', 'Arc7', '19',\n",
       "        'точка в Баренцевом море', 'Саббета 1', '16.01.21 18:00',\n",
       "        '18.01.21 19:00'],\n",
       "       ['Владимир Воронин', '9750737', 'Arc7', '19', 'Саббета 1',\n",
       "        'точка в Баренцевом море', '26.01.21 10:00', '29.01.21 22:30'],\n",
       "       ['Владимир Русанов', '9750701', 'Arc7', '19', 'Саббета 1',\n",
       "        'точка в Баренцевом море', '01.01.21 0:00', '03.01.21 12:45'],\n",
       "       ['Арктика-2', '9243801', 'Arc5', '14', 'точка в Баренцевом море',\n",
       "        'Саббета 2', '13.01.21 1:30', '16.01.21 9:30'],\n",
       "       ['Арктика-2', '9243801', 'Arc5', '14', 'Саббета 2',\n",
       "        'точка в Баренцевом море', '24.01.21 21:00', '28.01.21 21:00'],\n",
       "       ['РЗК Константа', '8711289', 'Arc5', '15', 'Сабетта 2',\n",
       "        'точка в Баренцевом море', '29.12.20 15:00', '02.01.21 19:30'],\n",
       "       ['РЗК Константа', '8711289', 'Arc5', '15',\n",
       "        'точка в Баренцевом море', 'Сабетта 1', '09.01.21 3:00',\n",
       "        '13.01.21 21:30'],\n",
       "       ['РЗК Константа', '8711289', 'Arc5', '15', 'Сабетта 1',\n",
       "        'точка в Баренцевом море', '19.01.21 4:00', '22.01.21 18:00'],\n",
       "       ['Беринг', '9267297', 'Arc4', '14', 'Сабетта 2',\n",
       "        'точка в Баренцевом море', '05.01.21 21:00', '08.01.21 10:00'],\n",
       "       ['Беринг', '9267297', 'Arc4', '14', 'точка в Баренцевом море',\n",
       "        'Сабетта 2', '24.01.21 10:00', '28.01.21 22:00'],\n",
       "       ['Северный проект', '9202053', 'Arc4', '12',\n",
       "        'точка в Баренцевом море', 'Сабетта 2', '23.01.21 0:30',\n",
       "        '30.01.21 21:00'],\n",
       "       ['Мыс Желания', '9366110', 'Arc4', '16',\n",
       "        'точка в Баренцевом море', 'Сабетта 2', '31.12.20 12:00',\n",
       "        '02.01.21 12:00'],\n",
       "       ['Мыс Желания', '9366110', 'Arc4', '16', 'Сабетта 2',\n",
       "        'точка в Баренцевом море', '16.01.021 12:30', '19.01.21 22:00'],\n",
       "       ['Мыс Желания', '9366110', 'Arc4', '16',\n",
       "        'точка в Баренцевом море', 'Сабетта 2', '29.01.21 10:00',\n",
       "        '01.02.2021  23:30:00:00'],\n",
       "       ['Никифор Бегичев', '9014896', 'Arc4', '14',\n",
       "        'точка в Баренцевом море', 'Сабетта 2', '16.01.21 3:00',\n",
       "        '20.01.21 3:00'],\n",
       "       ['Никифор Бегичев', '9014896', 'Arc4', '14', 'Сабетта 2 ',\n",
       "        'точка в Баренцевом море', '22.01.21 3:00', '26.01.21 22:00'],\n",
       "       ['LNG PHECDA', '9834313', 'No ice class', '18',\n",
       "        'точка в Баренцевом море', 'Сабетта 1', '02.01.21 12:30',\n",
       "        '04.01.21 12:00'],\n",
       "       ['LNG PHECDA', '9834313', 'No ice class', '18', 'Сабетта 1',\n",
       "        'точка в Баренцевом море', '04.01.21 11:00', '06.01.21 14:00'],\n",
       "       ['LNG PHECDA', '9834313', 'No ice class', '18',\n",
       "        'точка в Баренцевом море', 'Сабетта 1', '16.01.21 9:00',\n",
       "        '18.01.21 16:30'],\n",
       "       ['LNG PHECDA', '9834313', 'No ice class', '18', 'Сабетта 1',\n",
       "        'точка в Баренцевом море', '20.01.21 9:00', '22.01.21 22:00'],\n",
       "       ['LNG DUBHE', '9834296', 'No ice class', '16',\n",
       "        'точка в Баренцевом море', 'Сабетта 1', '02.01.21 0:30',\n",
       "        '03.01.21 23:30'],\n",
       "       ['LNG DUBHE', '9834296', 'No ice class', '16', 'Сабетта 1',\n",
       "        'точка в Баренцевом море', '06.01.21 15:00', '08.01.21 16:00'],\n",
       "       ['LNG DUBHE', '9834296', 'No ice class', '16',\n",
       "        'точка в Баренцевом море', 'Сабетта 1', '12.01.21 10:00',\n",
       "        '14.01.21 16:30'],\n",
       "       ['LNG DUBHE', '9834296', 'No ice class', '16', 'Сабетта 1',\n",
       "        'точка в Баренцевом море', '13.01.21 19:30', '15.01.21 10:00'],\n",
       "       ['LNG DUBHE', '9834296', 'No ice class', '16',\n",
       "        'точка в Баренцевом море', 'Сабетта 1', '22.01.21 7:00',\n",
       "        '24.01.21 18:30'],\n",
       "       ['LNG DUBHE', '9834296', 'No ice class', '16', 'Сабетта 1',\n",
       "        'точка в Баренцевом море', '23.01.21 0:30', '25.01.21 23:30']],\n",
       "      dtype='<U31')"
      ]
     },
     "execution_count": 301,
     "metadata": {},
     "output_type": "execute_result"
    }
   ],
   "source": [
    "applications = np.array(applications)[1:]\n",
    "applications"
   ]
  },
  {
   "cell_type": "code",
   "execution_count": 302,
   "id": "046a3864-b156-437d-9a09-1b3c0494638b",
   "metadata": {},
   "outputs": [
    {
     "data": {
      "text/plain": [
       "array([[ 1,  1,  1,  1,  1],\n",
       "       [ 2,  1,  1,  1,  1],\n",
       "       [ 3,  1,  1,  1,  1],\n",
       "       [ 4,  1,  1,  1,  1],\n",
       "       [ 5,  1,  1,  1,  1],\n",
       "       [ 6,  1,  1,  1,  1],\n",
       "       [ 7,  1,  1,  1,  1],\n",
       "       [ 8,  1,  1,  1,  1],\n",
       "       [ 9,  1,  1,  1,  1],\n",
       "       [10,  1,  1,  1,  1],\n",
       "       [11,  1,  1,  1,  1],\n",
       "       [12,  1,  1,  1,  1],\n",
       "       [13,  1,  1,  1,  1],\n",
       "       [14,  0,  0,  1,  1]])"
      ]
     },
     "execution_count": 302,
     "metadata": {},
     "output_type": "execute_result"
    }
   ],
   "source": [
    "rib_accessibility = np.array(rib_accessibility)[1:]\n",
    "rib_accessibility = rib_accessibility.astype(int)\n",
    "rib_accessibility"
   ]
  },
  {
   "cell_type": "code",
   "execution_count": 303,
   "id": "68f1f38b-7bb7-4c73-b2d1-a0cf9e7ff491",
   "metadata": {},
   "outputs": [],
   "source": [
    "np.save('monthly_ice_concentration.npy', monthly_ice_concentration)\n",
    "np.save('icebreakers.npy', icebreakers)\n",
    "np.save('applications.npy', applications)\n",
    "np.save('rib_accessibility.npy', rib_accessibility)"
   ]
  },
  {
   "cell_type": "code",
   "execution_count": null,
   "id": "4278d243-b27e-4e84-9a7d-c672d0959b90",
   "metadata": {},
   "outputs": [],
   "source": [
    "# коодринаты в растояние"
   ]
  },
  {
   "cell_type": "code",
   "execution_count": 307,
   "id": "a784a2cd-83a2-4e9d-9fe8-04c5247ad3ef",
   "metadata": {},
   "outputs": [],
   "source": [
    "with open('geo_cord.json', 'r') as json_file:\n",
    "    # Load the JSON data from the file into a Python data structure\n",
    "    data = json.load(json_file)"
   ]
  },
  {
   "cell_type": "code",
   "execution_count": 335,
   "id": "6ddc0759-ac52-44c9-8eb1-a6999508379f",
   "metadata": {},
   "outputs": [],
   "source": [
    "data_cords = list()\n",
    "for item in range(14):\n",
    "    cord1 = tuple(data['features'][item]['geometry']['coordinates'][0])\n",
    "    cord2 = tuple(data['features'][item]['geometry']['coordinates'][1])\n",
    "    distance = geodesic(cord1, cord2).miles\n",
    "    data_cords.append(distance)"
   ]
  },
  {
   "cell_type": "code",
   "execution_count": 338,
   "id": "7782a886-6cd9-491e-8fa7-b97189dc4700",
   "metadata": {},
   "outputs": [],
   "source": [
    "np.save('data_miles.npy', np.array(data_cords))"
   ]
  },
  {
   "cell_type": "code",
   "execution_count": 340,
   "id": "1106d6c2-5afd-4970-9a53-391037f42431",
   "metadata": {},
   "outputs": [
    {
     "name": "stdout",
     "output_type": "stream",
     "text": [
      "Collecting gekko\n",
      "  Downloading gekko-1.0.6-py3-none-any.whl (12.2 MB)\n",
      "\u001b[2K     \u001b[90m━━━━━━━━━━━━━━━━━━━━━━━━━━━━━━━━━━━━━━━━\u001b[0m \u001b[32m12.2/12.2 MB\u001b[0m \u001b[31m11.1 MB/s\u001b[0m eta \u001b[36m0:00:00\u001b[0m00:01\u001b[0m00:01\u001b[0m\n",
      "\u001b[?25hRequirement already satisfied: numpy>=1.8 in /Users/odner/miniconda3/envs/torch/lib/python3.8/site-packages (from gekko) (1.24.4)\n",
      "Installing collected packages: gekko\n",
      "Successfully installed gekko-1.0.6\n"
     ]
    }
   ],
   "source": [
    "!pip install gekko"
   ]
  },
  {
   "cell_type": "code",
   "execution_count": null,
   "id": "a947e766-bd60-4a5b-a683-d8895bfaae97",
   "metadata": {},
   "outputs": [],
   "source": []
  },
  {
   "cell_type": "code",
   "execution_count": 346,
   "id": "eaaf2c4a-fc45-4bd9-a776-12dbdbcb6696",
   "metadata": {},
   "outputs": [],
   "source": [
    "from gekko import GEKKO\n",
    "m = GEKKO(remote=False)"
   ]
  },
  {
   "cell_type": "code",
   "execution_count": null,
   "id": "0522f0ee-433b-4406-add8-92a41f2c879f",
   "metadata": {},
   "outputs": [],
   "source": [
    "x = m.Var(value=0)\n",
    "y = m.Var(value=0)"
   ]
  },
  {
   "cell_type": "code",
   "execution_count": null,
   "id": "7c1ace93-bd4a-4aab-bc92-f50453d818ef",
   "metadata": {},
   "outputs": [],
   "source": [
    "m.Maximize()"
   ]
  },
  {
   "cell_type": "code",
   "execution_count": null,
   "id": "6794cfb9-b1e5-4e27-9826-4abd140aba62",
   "metadata": {},
   "outputs": [],
   "source": []
  },
  {
   "cell_type": "code",
   "execution_count": null,
   "id": "b804520d-ae1d-4e45-b73e-9b567b5fb4a5",
   "metadata": {},
   "outputs": [],
   "source": [
    "import networkx as nx\n",
    "import itertools\n",
    "\n",
    "# Создайте граф\n",
    "G = nx.Graph()\n",
    "\n",
    "# Добавьте вершины и рёбра с атрибутами (расстояние, степень мерзлоты, скорость)\n",
    "G.add_edge('Место1', 'Место2', distance=100, permafrost=5, speed=20)\n",
    "\n",
    "# Определите судна и их характеристики (скорость, степень)\n",
    "ships = [\n",
    "    {'name': 'Судно1', 'speed': 25, 'degree': 1},\n",
    "    {'name': 'Судно2', 'speed': 20, 'degree': 2},\n",
    "    {'name': 'Судно3', 'speed': 15, 'degree': 3},\n",
    "]\n",
    "\n",
    "# Рассмотрите все возможные комбинации объединения судов в караваны (до 3 судов)\n",
    "combinations = []\n",
    "for r in range(1, min(len(ships), 3) + 1):\n",
    "    combinations.extend(itertools.combinations(ships, r))\n",
    "\n",
    "# Алгоритм поиска кратчайшего пути в графе для каждой комбинации судов\n",
    "for caravan in combinations:\n",
    "    # Создайте временный граф, учитывая ограничения объединения судов\n",
    "    temp_G = G.copy()\n",
    "    for ship in caravan:\n",
    "        if ship['degree'] == 2:\n",
    "            # Добавьте ограничения на степень мерзлоты для судов со степенью 2\n",
    "            for edge in temp_G.edges(data=True):\n",
    "                if edge[2]['permafrost'] >= 7:\n",
    "                    temp_G.remove_edge(edge[0], edge[1])\n",
    "        elif ship['degree'] == 3:\n",
    "            # Добавьте ограничения на степень мерзлоты для судов со степенью 3\n",
    "            for edge in temp_G.edges(data=True):\n",
    "                if 4 <= edge[2]['permafrost'] <= 5:\n",
    "                    temp_G.remove_edge(edge[0], edge[1])\n",
    "\n",
    "    # Используйте алгоритм поиска кратчайшего пути для этой комбинации\n",
    "    shortest_path = nx.shortest_path(temp_G, source='Место1', target='Место2', weight='distance')\n",
    "\n",
    "    # Рассчитайте планируемую дату прибытия и минимизируйте разницу с действительной датой прибытия\n",
    "    # Добавьте здесь свой код для расчета планируемой даты и оптимизации\n",
    "\n",
    "# Выведите результаты\n",
    "# Добавьте здесь код для вывода результатов\n",
    "\n"
   ]
  },
  {
   "cell_type": "code",
   "execution_count": null,
   "id": "f24297d6-1fe4-46a2-a8a9-c6c3b468b792",
   "metadata": {},
   "outputs": [],
   "source": []
  },
  {
   "cell_type": "code",
   "execution_count": 358,
   "id": "bd4d9eee-d243-4dfa-b2de-05e632e67076",
   "metadata": {},
   "outputs": [],
   "source": [
    "graph = {\n",
    "    'A': {'B': {'distance': 5, 'passability': 10}, 'C': {'distance': 10, 'passability': 5}},\n",
    "    'B': {'A': {'distance': 5, 'passability': 10}, 'C': {'distance': 3, 'passability': 8}, 'D': {'distance': 3, 'passability': 2}},\n",
    "    'D': {'B': {'distance': 40, 'passability': 1}, 'G': {'distance': 3, 'passability': 3}},\n",
    "    'C': {'B': {'distance': 10, 'passability': 6}, 'G': {'distance': 5, 'passability': 8}}\n",
    "}\n"
   ]
  },
  {
   "cell_type": "code",
   "execution_count": 360,
   "id": "ddd2a5d4-b3a6-45ef-bffa-676f36cc64c2",
   "metadata": {},
   "outputs": [
    {
     "name": "stdout",
     "output_type": "stream",
     "text": [
      "Минимальное время для перемещения из A в G: 0.55 часов\n"
     ]
    }
   ],
   "source": [
    "import heapq\n",
    "\n",
    "def find_shortest_time(graph, start, end, ship_speed):\n",
    "    # Инициализация очереди с приоритетом для хранения узлов и времени\n",
    "    priority_queue = [(0, start, 0)]  # (время, узел, текущий день)\n",
    "\n",
    "    while priority_queue:\n",
    "        time, node, current_day = heapq.heappop(priority_queue)\n",
    "\n",
    "        if node == end:\n",
    "            return time\n",
    "\n",
    "        # Получаем информацию о соседях данного узла\n",
    "        neighbors = graph.get(node, {})\n",
    "\n",
    "        for neighbor, info in neighbors.items():\n",
    "            distance = info['distance']\n",
    "            passability = info['passability']\n",
    "\n",
    "            # Вычисляем новое время на основе степени проходимости и скорости судна\n",
    "            new_time = time + (distance / (ship_speed * (1 - (current_day * 0.07))))\n",
    "\n",
    "            # Помещаем соседа в очередь с приоритетом\n",
    "            heapq.heappush(priority_queue, (new_time, neighbor, current_day))\n",
    "\n",
    "            # Проверяем, можно ли перейти на следующий день\n",
    "            if passability < 10 and current_day < 1:\n",
    "                new_time = time + (distance / (ship_speed * (1 - ((current_day + 1) * 0.07))))\n",
    "                heapq.heappush(priority_queue, (new_time, neighbor, current_day + 1))\n",
    "\n",
    "    return None  # Если путь не найден\n",
    "\n",
    "# Пример использования\n",
    "start_node = 'A'\n",
    "end_node = 'G'\n",
    "ship_speed = 20  # Произвольная скорость судна\n",
    "shortest_time = find_shortest_time(graph, start_node, end_node, ship_speed)\n",
    "print(f\"Минимальное время для перемещения из {start_node} в {end_node}: {shortest_time} часов\")\n"
   ]
  },
  {
   "cell_type": "code",
   "execution_count": 361,
   "id": "57663eeb-03b0-45a5-a352-8c1e8628cebb",
   "metadata": {},
   "outputs": [
    {
     "name": "stdout",
     "output_type": "stream",
     "text": [
      "2021-01-06 07:00:00\n"
     ]
    }
   ],
   "source": [
    "from datetime import datetime\n",
    "\n",
    "date_string = '06.01.21 7:00'\n",
    "date_format = '%d.%m.%y %H:%M'\n",
    "\n",
    "# Конвертируем строку в объект datetime\n",
    "date_obj = datetime.strptime(date_string, date_format)\n",
    "\n",
    "print(date_obj)\n"
   ]
  },
  {
   "cell_type": "code",
   "execution_count": null,
   "id": "496d6e29-e325-4ee6-aee3-67783de65e95",
   "metadata": {},
   "outputs": [],
   "source": [
    "import networkx as nx\n",
    "\n",
    "# Создание пустого графа\n",
    "G = nx.Graph()\n",
    "\n",
    "# Добавление узлов и связей (здесь нужно указать реальные данные)\n",
    "G.add_edge(\"A\", \"B\", distance=150, passability=8)\n",
    "G.add_edge(\"B\", \"C\", distance=135, passability=4)\n",
    "G.add_edge(\"B\", \"D\", distance=155, passability=5)\n",
    "G.add_edge(\"D\", \"G\", distance=145, passability=7)\n",
    "G.add_edge(\"C\", \"G\", distance=115, passability=2)\n",
    "# ...\n",
    "\n",
    "# Задание начальной и конечной точек\n",
    "start_node = \"A\"\n",
    "end_node = \"G\"\n",
    "\n",
    "# Установка скорости судна\n",
    "ship_speed = 9  # Пример скорости в км/ч\n",
    "\n",
    "# Расчет кратчайшего пути с учетом степени проходимости и скорости судна\n",
    "shortest_path = nx.shortest_path(G, source=start_node, target=end_node, weight=\"distance\")"
   ]
  },
  {
   "cell_type": "code",
   "execution_count": 366,
   "id": "69557db4-6221-47b2-8708-0d3a3476dc41",
   "metadata": {},
   "outputs": [
    {
     "name": "stdout",
     "output_type": "stream",
     "text": [
      "['A', 'B', 'C', 'D', 'E', 'F']\n",
      "['A', 'B', 'C', 'D', 'F']\n",
      "['A', 'B', 'C', 'E', 'F']\n",
      "['A', 'B', 'D', 'E', 'F']\n",
      "['A', 'B', 'D', 'F']\n",
      "['A', 'C', 'D', 'E', 'F']\n",
      "['A', 'C', 'D', 'F']\n",
      "['A', 'C', 'E', 'F']\n"
     ]
    }
   ],
   "source": [
    "import networkx as nx\n",
    "\n",
    "# Создание графа\n",
    "G = nx.DiGraph()  # Направленный граф\n",
    "\n",
    "# Добавление рёбер и их весов (расстояний)\n",
    "G.add_edge('A', 'B', weight=123, passability=8)\n",
    "G.add_edge('A', 'C', weight=2134, passability=8)\n",
    "G.add_edge('B', 'C', weight=1234, passability=8)\n",
    "G.add_edge('B', 'D', weight=2134, passability=8)\n",
    "G.add_edge('C', 'D', weight=1, passability=8)\n",
    "G.add_edge('C', 'E', weight=1, passability=8)\n",
    "G.add_edge('D', 'E', weight=1, passability=8)\n",
    "G.add_edge('D', 'F', weight=1, passability=8)\n",
    "G.add_edge('E', 'F', weight=1, passability=8)\n",
    "\n",
    "start_node = 'A'\n",
    "end_node = 'F'\n",
    "\n",
    "# Найти все возможные пути\n",
    "all_paths = list(nx.all_simple_paths(G, start_node, end_node))\n",
    "\n",
    "for path in all_paths:\n",
    "    print(path)"
   ]
  },
  {
   "cell_type": "code",
   "execution_count": null,
   "id": "70e09bca-0925-4af0-b47f-720918490508",
   "metadata": {},
   "outputs": [],
   "source": []
  },
  {
   "cell_type": "code",
   "execution_count": 364,
   "id": "b4e3615c-86bb-4007-bbcc-498c1786493f",
   "metadata": {},
   "outputs": [
    {
     "ename": "TypeError",
     "evalue": "all_simple_paths() got an unexpected keyword argument 'weight'",
     "output_type": "error",
     "traceback": [
      "\u001b[0;31m---------------------------------------------------------------------------\u001b[0m",
      "\u001b[0;31mTypeError\u001b[0m                                 Traceback (most recent call last)",
      "Cell \u001b[0;32mIn[364], line 1\u001b[0m\n\u001b[0;32m----> 1\u001b[0m shortest_path \u001b[38;5;241m=\u001b[39m \u001b[38;5;28mlist\u001b[39m(\u001b[43mnx\u001b[49m\u001b[38;5;241;43m.\u001b[39;49m\u001b[43mall_simple_paths\u001b[49m\u001b[43m(\u001b[49m\u001b[43mG\u001b[49m\u001b[43m,\u001b[49m\u001b[43m \u001b[49m\u001b[43msource\u001b[49m\u001b[38;5;241;43m=\u001b[39;49m\u001b[43mstart_node\u001b[49m\u001b[43m,\u001b[49m\u001b[43m \u001b[49m\u001b[43mtarget\u001b[49m\u001b[38;5;241;43m=\u001b[39;49m\u001b[43mend_node\u001b[49m\u001b[43m,\u001b[49m\u001b[43m \u001b[49m\u001b[43mweight\u001b[49m\u001b[38;5;241;43m=\u001b[39;49m\u001b[38;5;124;43m\"\u001b[39;49m\u001b[38;5;124;43mdistance\u001b[39;49m\u001b[38;5;124;43m\"\u001b[39;49m\u001b[43m)\u001b[49m)\n",
      "\u001b[0;31mTypeError\u001b[0m: all_simple_paths() got an unexpected keyword argument 'weight'"
     ]
    }
   ],
   "source": [
    "shortest_path = list(nx.all_simple_paths(G, source=start_node, target=end_node, weight=\"distance\"))"
   ]
  },
  {
   "cell_type": "code",
   "execution_count": null,
   "id": "7170ecb6-5340-4e62-abdd-ec2cd4e46fe8",
   "metadata": {},
   "outputs": [],
   "source": [
    "# Расчет времени прохождения\n",
    "total_time = 0\n",
    "for i in range(len(shortest_path) - 1):\n",
    "    edge = G[shortest_path[i]][shortest_path[i + 1]]\n",
    "    distance = edge[\"distance\"]\n",
    "    passability = edge[\"passability\"]\n",
    "    effective_speed = ship_speed * (passability / 10)  # Учитываем степень проходимости\n",
    "    time = distance / effective_speed\n",
    "    total_time += time\n",
    "\n",
    "print(f\"Время прохождения от {start_node} до {end_node}: {total_time} часов\")"
   ]
  },
  {
   "cell_type": "code",
   "execution_count": null,
   "id": "84c8c9b8-20da-4f16-af6f-5595f2efded2",
   "metadata": {},
   "outputs": [],
   "source": [
    "import networkx as nx\n",
    "\n",
    "# Создайте пустой граф\n",
    "G = nx.Graph()\n",
    "\n",
    "# Здесь добавьте узлы и связи с начальными значениями степени проходимости и расстояниями\n",
    "\n",
    "# Создайте структуру данных для хранения степени проходимости для каждого узла на каждый день\n",
    "passability_data = {\n",
    "    \"A\": [8, 7, 6, ...],  # Степень проходимости для узла \"A\" на каждый день\n",
    "    \"B\": [7, 6, 5, ...],  # Степень проходимости для узла \"B\" на каждый день\n",
    "    # Добавьте для всех узлов\n",
    "}\n",
    "\n",
    "# Задайте начальный и конечный узлы\n",
    "start_node = \"A\"\n",
    "end_node = \"C\"\n",
    "\n",
    "# Установите скорость судна\n",
    "ship_speed = 20  # Пример скорости в км/ч\n",
    "\n",
    "# Укажите день, на который вы хотите рассчитать время прохождения\n",
    "current_day = 0  # Здесь укажите актуальный день\n",
    "\n",
    "# Расчет кратчайшего пути с учетом степени проходимости и скорости судна для текущего дня\n",
    "shortest_path = nx.shortest_path(\n",
    "    G,\n",
    "    source=start_node,\n",
    "    target=end_node,\n",
    "    weight=lambda u, v, d: G[u][v][\"distance\"] / (ship_speed * (passability_data[u][current_day] / 10)),\n",
    ")\n",
    "\n",
    "# Расчет времени прохождения для текущего дня\n",
    "total_time = sum(G[u][v][\"distance\"] / (ship_speed * (passability_data[u][current_day] / 10)) for u, v in zip(shortest_path, shortest_path[1:]))\n",
    "\n",
    "print(f\"Время прохождения от {start_node} до {end_node} в день {current_day + 1}: {total_time} часов\")\n"
   ]
  },
  {
   "cell_type": "code",
   "execution_count": null,
   "id": "a5dc53e1-29db-40f2-b02d-888f6efae389",
   "metadata": {},
   "outputs": [],
   "source": [
    "import heapq\n",
    "\n",
    "def find_minimum_time_path(graph, start, end, ship_speeds):\n",
    "    # Инициализация очереди с приоритетами\n",
    "    priority_queue = [(0, start, 0)]  # (время, узел, день)\n",
    "    visited = set()\n",
    "\n",
    "    while priority_queue:\n",
    "        # Извлечение узла с наименьшим временем из очереди\n",
    "        current_time, current_node, current_day = heapq.heappop(priority_queue)\n",
    "\n",
    "        # Если достигнут конечный узел, возвращаем время\n",
    "        if current_node == end:\n",
    "            return current_time\n",
    "\n",
    "        # Если узел уже посещен, пропускаем его\n",
    "        if (current_node, current_day) in visited:\n",
    "            continue\n",
    "\n",
    "        # Помечаем узел как посещенный\n",
    "        visited.add((current_node, current_day))\n",
    "\n",
    "        # Перебираем соседей текущего узла\n",
    "        for neighbor, (distance, speed_limits) in graph[current_node].items():\n",
    "            for day, speed_limit in enumerate(speed_limits, start=current_day):\n",
    "                # Проверяем, можно ли двигаться с данной скоростью в данный день\n",
    "                if ship_speeds[day] >= speed_limit:\n",
    "                    # Рассчитываем новое время прохождения узла\n",
    "                    neighbor_time = current_time + (distance / ship_speeds[day])\n",
    "                    \n",
    "                    # Добавляем соседа в очередь с приоритетами с новым днем\n",
    "                    heapq.heappush(priority_queue, (neighbor_time, neighbor, day + 1))\n",
    "\n",
    "    # Если не удалось найти путь до конечного узла\n",
    "    return float('inf')\n",
    "\n",
    "# Пример графа путей с расстоянием и ограничениями скорости\n",
    "graph = {\n",
    "    'A': {'B': (100, [7, 8, 9, 7, 6, 5, 7, 8, 9, 10, 7, 6, 5, 7, 8, 9, 10, 7, 6, 5, 7, 8, 9, 7, 6, 5, 7, 8, 9, 10]),\n",
    "          'C': (50, [6, 7, 8, 6, 7, 8, 6, 7, 8, 6, 7, 8, 6, 7, 8, 6, 7, 8, 6, 7, 8, 6, 7, 8, 6, 7, 8, 6, 7, 8])},\n",
    "    # Другие участки пути\n",
    "}\n",
    "\n",
    "# Скорость вашего судна на каждый день\n",
    "ship_speeds = 10\n",
    "\n",
    "# Нахождение минимального времени прохождения пути\n",
    "start_node = 'A'\n",
    "end_node = 'B'\n",
    "minimum_time = find_minimum_time_path(graph, start_node, end_node, ship_speeds)\n",
    "\n",
    "print(f\"Минимальное время прохождения от {start_node} до {end_node}: {minimum_time} дней\")\n"
   ]
  },
  {
   "cell_type": "code",
   "execution_count": 433,
   "id": "b654207a-2ee1-43a5-a64b-73f0815a9e9d",
   "metadata": {},
   "outputs": [
    {
     "data": {
      "text/plain": [
       "array([3, 3, 3, 3, 3, 3, 3, 3, 4, 4, 4, 4, 4, 4, 4, 5, 5, 5, 5, 5, 5, 6,\n",
       "       6, 6, 6, 7, 7, 7, 8, 9])"
      ]
     },
     "execution_count": 433,
     "metadata": {},
     "output_type": "execute_result"
    }
   ],
   "source": [
    "monthly_ice_concentration = np.load('monthly_ice_concentration.npy')\n",
    "monthly_ice_concentration[14-1]"
   ]
  },
  {
   "cell_type": "code",
   "execution_count": 434,
   "id": "04d1d8a2-92e8-41a1-9708-94550dd2f6e0",
   "metadata": {},
   "outputs": [
    {
     "data": {
      "text/plain": [
       "47.852922434718344"
      ]
     },
     "execution_count": 434,
     "metadata": {},
     "output_type": "execute_result"
    }
   ],
   "source": [
    "data_miles = np.load('data_miles.npy')\n",
    "data_miles[(14              -1)]"
   ]
  },
  {
   "cell_type": "code",
   "execution_count": null,
   "id": "499808dd-983f-4d33-ada9-34a812b378c0",
   "metadata": {},
   "outputs": [],
   "source": [
    "monthly_ice_concentration = "
   ]
  },
  {
   "cell_type": "code",
   "execution_count": null,
   "id": "7e5f4ec8-23b6-4a44-b9c9-1e148f904faa",
   "metadata": {},
   "outputs": [],
   "source": [
    "# "
   ]
  },
  {
   "cell_type": "code",
   "execution_count": 437,
   "id": "041953b7-5e6c-4425-b509-34b184ed5e6c",
   "metadata": {},
   "outputs": [
    {
     "name": "stdout",
     "output_type": "stream",
     "text": [
      "Минимальное время прохождения от 13 до 5 составляет 74.49 часов\n"
     ]
    }
   ],
   "source": [
    "import heapq\n",
    "\n",
    "# Граф путей с расстояниями и ограничениями скорости\n",
    "graph = {\n",
    "    0: {\n",
    "        1: {'distance': 802.3844775732041,\n",
    "            'speed_limit': [0, 0, 0, 0, 0, 0, 0, 0, 0, 0, 0, 0, 0, 0, 0, 1, 1, 1, 1, 1, 1, 1, 1, 1, 1, 1, 1, 1, 1, 2]\n",
    "           },\n",
    "        5: {'distance': 672.2298286650752,\n",
    "            'speed_limit': [0, 0, 0, 0, 0, 0, 0, 0, 0, 0, 0, 0, 0, 0, 0, 1, 1, 1, 1, 1, 1, 1, 1, 1, 1, 1, 1, 1, 1, 2]\n",
    "           }\n",
    "    },\n",
    "    1:  {\n",
    "        0: {'distance': 802.3844775732041,\n",
    "            'speed_limit': [0, 0, 0, 0, 0, 0, 0, 0, 0, 0, 0, 0, 0, 0, 0, 1, 1, 1, 1, 1, 1, 1, 1, 1, 1, 1, 1, 1, 1, 2]\n",
    "           },\n",
    "        2: {'distance': 594.2540890772044,\n",
    "            'speed_limit': [0, 1, 1, 1, 1, 2, 2, 2, 2, 2, 2, 2, 2, 3, 3, 3, 3, 3, 3, 3, 4, 4, 4, 4, 4, 4, 4, 5, 5, 5]\n",
    "           }\n",
    "    },\n",
    "    2:  {\n",
    "        1: {'distance': 594.2540890772044,\n",
    "            'speed_limit': [0, 1, 1, 1, 1, 2, 2, 2, 2, 2, 2, 2, 2, 3, 3, 3, 3, 3, 3, 3, 4, 4, 4, 4, 4, 4, 4, 5, 5, 5]\n",
    "           },\n",
    "        3: {'distance': 370.12977626198835,\n",
    "            'speed_limit': [1, 1, 1, 1, 2, 2, 2, 2, 2, 2, 3, 3, 3, 3, 3, 3, 3, 4, 4, 4, 4, 4, 5, 5, 5, 5, 6, 6, 6, 6]\n",
    "           }\n",
    "    },\n",
    "    3:  {\n",
    "        2: {'distance': 370.12977626198835,\n",
    "            'speed_limit': [1, 1, 1, 1, 2, 2, 2, 2, 2, 2, 3, 3, 3, 3, 3, 3, 3, 4, 4, 4, 4, 4, 5, 5, 5, 5, 6, 6, 6, 6]\n",
    "           },\n",
    "        4: {'distance': 201.9950962300714,\n",
    "            'speed_limit': [0, 0, 0, 1, 1, 1, 1, 1, 1, 1, 1, 1, 2, 2, 2, 2, 2, 3, 3, 3, 3, 3, 4, 4, 4, 4, 4, 5, 5, 6]\n",
    "           },\n",
    "        6: {'distance': 111.7413453491566,\n",
    "            'speed_limit': [1, 1, 1, 2, 2, 2, 2, 2, 2, 3, 3, 3, 3, 3, 3, 4, 4, 4, 4, 4, 5, 5, 5, 5, 6, 6, 6, 6, 6, 7]\n",
    "           }\n",
    "    },\n",
    "    4:  {\n",
    "        3: {'distance': 201.9950962300714,\n",
    "            'speed_limit': [0, 0, 0, 1, 1, 1, 1, 1, 1, 1, 1, 1, 2, 2, 2, 2, 2, 3, 3, 3, 3, 3, 4, 4, 4, 4, 4, 5, 5, 6]\n",
    "           },\n",
    "        5: {'distance': 962.4130145654461,\n",
    "            'speed_limit': [0, 0, 0, 0, 0, 0, 0, 0, 0, 0, 0, 0, 0, 0, 1, 1, 1, 1, 1, 1, 1, 1, 1, 1, 1, 1, 1, 1, 2, 2]\n",
    "           }\n",
    "    },\n",
    "    5:  {\n",
    "        4: {'distance': 962.4130145654461,\n",
    "            'speed_limit': [0, 0, 0, 0, 0, 0, 0, 0, 0, 0, 0, 0, 0, 0, 1, 1, 1, 1, 1, 1, 1, 1, 1, 1, 1, 1, 1, 1, 2, 2]\n",
    "           },\n",
    "        0: {'distance': 802.3844775732041,\n",
    "            'speed_limit': [0, 0, 0, 0, 0, 0, 0, 0, 0, 0, 0, 0, 0, 0, 0, 1, 1, 1, 1, 1, 1, 1, 1, 1, 1, 1, 1, 1, 1, 2]\n",
    "           }\n",
    "    },\n",
    "    6:  {\n",
    "        3: {'distance': 111.7413453491566,\n",
    "            'speed_limit': [1, 1, 1, 2, 2, 2, 2, 2, 2, 3, 3, 3, 3, 3, 3, 4, 4, 4, 4, 4, 5, 5, 5, 5, 6, 6, 6, 6, 6, 7]\n",
    "           },\n",
    "        7: {'distance': 62.52612185246047,\n",
    "            'speed_limit': [1, 1, 2, 2, 2, 2, 2, 2, 3, 3, 3, 3, 3, 3, 4, 4, 4, 4, 4, 5, 5, 5, 5, 6, 6, 6, 6, 6, 7, 7]\n",
    "           }\n",
    "    },\n",
    "    7:  {\n",
    "        6: {'distance': 62.52612185246047,\n",
    "            'speed_limit': [1, 1, 2, 2, 2, 2, 2, 2, 3, 3, 3, 3, 3, 3, 4, 4, 4, 4, 4, 5, 5, 5, 5, 6, 6, 6, 6, 6, 7, 7]\n",
    "           },\n",
    "        8: {'distance': 76.98144452489322,\n",
    "            'speed_limit': [2, 2, 2, 2, 3, 3, 3, 3, 4, 4, 4, 4, 4, 5, 5, 5, 5, 5, 6, 6, 6, 6, 7, 7, 7, 7, 7, 8, 8, 8]\n",
    "           }\n",
    "    },\n",
    "    8:  {\n",
    "        9: {'distance': 27.755861003897596,\n",
    "            'speed_limit': [2, 2, 2, 3, 3, 3, 3, 4, 4, 4, 4, 4, 5, 5, 5, 5, 5, 6, 6, 6, 6, 7, 7, 7, 7, 7, 7, 8, 8, 8]\n",
    "           },\n",
    "        7: {'distance': 76.98144452489322,\n",
    "            'speed_limit': [2, 2, 2, 2, 3, 3, 3, 3, 4, 4, 4, 4, 4, 5, 5, 5, 5, 5, 6, 6, 6, 6, 7, 7, 7, 7, 7, 8, 8, 8]\n",
    "           }\n",
    "    },\n",
    "    9:  {\n",
    "        8: {'distance': 27.755861003897596,\n",
    "            'speed_limit': [2, 2, 2, 3, 3, 3, 3, 4, 4, 4, 4, 4, 5, 5, 5, 5, 5, 6, 6, 6, 6, 7, 7, 7, 7, 7, 7, 8, 8, 8]\n",
    "           },\n",
    "        10: {'distance': 27.456556499021453,\n",
    "            'speed_limit': [3, 3, 3, 3, 3, 3, 3, 3, 4, 4, 4, 5, 5, 5, 5, 5, 6, 6, 6, 6, 7, 7, 7, 7, 7, 7, 7, 7, 7, 7]\n",
    "           },\n",
    "        11: {'distance': 50.741262742082476,\n",
    "            'speed_limit': [3, 3, 3, 3, 3, 3, 3, 3, 4, 4, 4, 5, 5, 5, 5, 5, 6, 6, 6, 6, 7, 7, 7, 7, 7, 7, 7, 7, 7, 7]\n",
    "           }\n",
    "    },\n",
    "    10:  {\n",
    "        9: {'distance': 27.456556499021453,\n",
    "            'speed_limit': [3, 3, 3, 3, 3, 3, 3, 3, 4, 4, 4, 5, 5, 5, 5, 5, 6, 6, 6, 6, 7, 7, 7, 7, 7, 7, 7, 7, 7, 7]\n",
    "           }\n",
    "    },\n",
    "    11:  {\n",
    "        9: {'distance': 50.741262742082476,\n",
    "            'speed_limit': [3, 3, 3, 3, 3, 3, 3, 3, 4, 4, 4, 5, 5, 5, 5, 5, 6, 6, 6, 6, 7, 7, 7, 7, 7, 7, 7, 7, 7, 7]\n",
    "           },\n",
    "        12: {'distance': 27.072802307045126,\n",
    "            'speed_limit': [3, 3, 3, 3, 3, 3, 3, 3, 4, 4, 4, 5, 5, 5, 5, 5, 6, 6, 6, 6, 7, 7, 7, 7, 7, 7, 7, 7, 7, 7]\n",
    "           },\n",
    "        13: {'distance': 47.852922434718344,\n",
    "            'speed_limit': [3, 3, 3, 3, 3, 3, 3, 3, 4, 4, 4, 4, 4, 4, 4, 5, 5, 5, 5, 5, 5, 6, 6, 6, 6, 7, 7, 7, 8, 9]\n",
    "           }\n",
    "    },\n",
    "    12:  {\n",
    "        11: {'distance': 27.072802307045126,\n",
    "            'speed_limit': [3, 3, 3, 3, 3, 3, 3, 3, 4, 4, 4, 5, 5, 5, 5, 5, 6, 6, 6, 6, 7, 7, 7, 7, 7, 7, 7, 7, 7, 7]\n",
    "           }\n",
    "    },\n",
    "    13:  {\n",
    "        11: {'distance': 47.852922434718344,\n",
    "            'speed_limit': [3, 3, 3, 3, 3, 3, 3, 3, 4, 4, 4, 4, 4, 4, 4, 5, 5, 5, 5, 5, 5, 6, 6, 6, 6, 7, 7, 7, 8, 9]\n",
    "           }\n",
    "    }\n",
    "}\n",
    "\n",
    "# Функция для вычисления времени прохождения пути с учетом скорости\n",
    "def calculate_time(distance, speed_limit, ship_speed):\n",
    "    return distance / (ship_speed * (1 - (speed_limit - 1) * 0.07))\n",
    "\n",
    "# Функция для поиска пути с минимальным временем\n",
    "def find_min_time_path(graph, start, end, ship_speed):\n",
    "    visited = set()\n",
    "    min_time = {node: float('inf') for node in graph}\n",
    "    min_time[start] = 0\n",
    "    heap = [(0, start)]\n",
    "\n",
    "    while heap:\n",
    "        current_time, current_node = heapq.heappop(heap)\n",
    "\n",
    "        if current_node == end:\n",
    "            return min_time[end]\n",
    "\n",
    "        if current_node in visited:\n",
    "            continue\n",
    "\n",
    "        visited.add(current_node)\n",
    "\n",
    "        for neighbor, edge_info in graph[current_node].items():\n",
    "            for speed_limit in edge_info['speed_limit']:\n",
    "                new_time = current_time + calculate_time(edge_info['distance'], speed_limit, ship_speed)\n",
    "                if new_time < min_time[neighbor]:\n",
    "                    min_time[neighbor] = new_time\n",
    "                    heapq.heappush(heap, (new_time, neighbor))\n",
    "\n",
    "    return float('inf')  # Если путь не найден\n",
    "\n",
    "\n",
    "start_node = 13 # Начальная точка\n",
    "end_node = 5 # Конечная точка\n",
    "ship_speed = 20  # Скорость суда\n",
    "\n",
    "min_time = find_min_time_path(graph, start_node, end_node, ship_speed)\n",
    "\n",
    "if min_time != float('inf'):\n",
    "    print(f'Минимальное время прохождения от {start_node} до {end_node} составляет {min_time:.2f} часов')\n",
    "else:\n",
    "    print(f'Путь от {start_node} до {end_node} недоступен')\n"
   ]
  },
  {
   "cell_type": "code",
   "execution_count": null,
   "id": "ae5933f9-2aaf-4435-a36f-4f4e739adf3d",
   "metadata": {},
   "outputs": [],
   "source": []
  },
  {
   "cell_type": "code",
   "execution_count": null,
   "id": "3ba56347-da8d-4ba5-b4f4-2677eaf26d96",
   "metadata": {},
   "outputs": [],
   "source": []
  }
 ],
 "metadata": {
  "kernelspec": {
   "display_name": "Python 3 (ipykernel)",
   "language": "python",
   "name": "python3"
  },
  "language_info": {
   "codemirror_mode": {
    "name": "ipython",
    "version": 3
   },
   "file_extension": ".py",
   "mimetype": "text/x-python",
   "name": "python",
   "nbconvert_exporter": "python",
   "pygments_lexer": "ipython3",
   "version": "3.8.17"
  }
 },
 "nbformat": 4,
 "nbformat_minor": 5
}
