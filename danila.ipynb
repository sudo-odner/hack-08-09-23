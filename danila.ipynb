{
 "cells": [
  {
   "cell_type": "code",
   "execution_count": 304,
   "id": "32613d59-9a2e-4756-bc54-d84ce8813a4f",
   "metadata": {},
   "outputs": [
    {
     "name": "stdout",
     "output_type": "stream",
     "text": [
      "Requirement already satisfied: python-docx in /Users/odner/miniconda3/envs/torch/lib/python3.8/site-packages (0.8.11)\n",
      "Requirement already satisfied: lxml>=2.3.2 in /Users/odner/miniconda3/envs/torch/lib/python3.8/site-packages (from python-docx) (4.9.3)\n",
      "Requirement already satisfied: numpy in /Users/odner/miniconda3/envs/torch/lib/python3.8/site-packages (1.24.4)\n",
      "Requirement already satisfied: pandas in /Users/odner/miniconda3/envs/torch/lib/python3.8/site-packages (2.0.3)\n",
      "Requirement already satisfied: python-dateutil>=2.8.2 in /Users/odner/miniconda3/envs/torch/lib/python3.8/site-packages (from pandas) (2.8.2)\n",
      "Requirement already satisfied: pytz>=2020.1 in /Users/odner/miniconda3/envs/torch/lib/python3.8/site-packages (from pandas) (2023.3)\n",
      "Requirement already satisfied: tzdata>=2022.1 in /Users/odner/miniconda3/envs/torch/lib/python3.8/site-packages (from pandas) (2023.3)\n",
      "Requirement already satisfied: numpy>=1.20.3 in /Users/odner/miniconda3/envs/torch/lib/python3.8/site-packages (from pandas) (1.24.4)\n",
      "Requirement already satisfied: six>=1.5 in /Users/odner/miniconda3/envs/torch/lib/python3.8/site-packages (from python-dateutil>=2.8.2->pandas) (1.16.0)\n",
      "Collecting geopy\n",
      "  Obtaining dependency information for geopy from https://files.pythonhosted.org/packages/e1/58/9289c6a03116025cdb61461d99b2493daa4967a80b13755463d71a0affeb/geopy-2.4.0-py3-none-any.whl.metadata\n",
      "  Downloading geopy-2.4.0-py3-none-any.whl.metadata (6.8 kB)\n",
      "Collecting geographiclib<3,>=1.52 (from geopy)\n",
      "  Downloading geographiclib-2.0-py3-none-any.whl (40 kB)\n",
      "\u001b[2K     \u001b[90m━━━━━━━━━━━━━━━━━━━━━━━━━━━━━━━━━━━━━━━\u001b[0m \u001b[32m40.3/40.3 kB\u001b[0m \u001b[31m558.5 kB/s\u001b[0m eta \u001b[36m0:00:00\u001b[0m \u001b[36m0:00:01\u001b[0m\n",
      "\u001b[?25hDownloading geopy-2.4.0-py3-none-any.whl (125 kB)\n",
      "\u001b[2K   \u001b[90m━━━━━━━━━━━━━━━━━━━━━━━━━━━━━━━━━━━━━━━━\u001b[0m \u001b[32m125.4/125.4 kB\u001b[0m \u001b[31m1.2 MB/s\u001b[0m eta \u001b[36m0:00:00\u001b[0m00:01\u001b[0m0:01\u001b[0m\n",
      "\u001b[?25hInstalling collected packages: geographiclib, geopy\n",
      "Successfully installed geographiclib-2.0 geopy-2.4.0\n"
     ]
    }
   ],
   "source": [
    "!pip install python-docx\n",
    "!pip install numpy\n",
    "!pip install pandas\n",
    "!pip install geopy"
   ]
  },
  {
   "cell_type": "code",
   "execution_count": 306,
   "id": "703b9684-860b-4070-a64d-d8c06c9cad7a",
   "metadata": {},
   "outputs": [],
   "source": [
    "import docx\n",
    "import numpy as np\n",
    "import pandas as pd\n",
    "from geopy.distance import geodesic\n",
    "import json"
   ]
  },
  {
   "cell_type": "code",
   "execution_count": 295,
   "id": "74680b3a-b633-48de-8289-4b41780ae9d2",
   "metadata": {},
   "outputs": [],
   "source": [
    "icebreakers_docx = docx.Document(\"dataset/перечень_ледоколов.docx\")\n",
    "applications_docx = docx.Document(\"dataset/перечень_заявок.docx\")\n",
    "rib_accessibility_docx = docx.Document(\"dataset/доступность_ребра.docx\")\n",
    "monthly_ice_concentration_docx = docx.Document(\"dataset/сплоченность_лда.docx\")"
   ]
  },
  {
   "cell_type": "code",
   "execution_count": 296,
   "id": "62367c9b-bbaf-4730-93e4-7d48ca10d655",
   "metadata": {},
   "outputs": [],
   "source": [
    "data_table = [monthly_ice_concentration_docx, icebreakers_docx, applications_docx, rib_accessibility_docx]"
   ]
  },
  {
   "cell_type": "code",
   "execution_count": 297,
   "id": "af9a1c14-6c1a-4d1c-9e0c-87949431126c",
   "metadata": {},
   "outputs": [],
   "source": [
    "all_data = list()\n",
    "for table_docx in data_table:\n",
    "    data = list()\n",
    "    for table in table_docx.tables:\n",
    "        data_table = list()\n",
    "        for row in table.rows:\n",
    "            data_row = list()\n",
    "            for cell in row.cells:\n",
    "                cell_text = cell.text\n",
    "                data_row.append(cell_text)\n",
    "            data_table.append(data_row)\n",
    "        data.append(data_table)\n",
    "    all_data.append(data)"
   ]
  },
  {
   "cell_type": "code",
   "execution_count": 298,
   "id": "b119b968-d0f7-49e3-89e3-aad89318deb3",
   "metadata": {},
   "outputs": [],
   "source": [
    "monthly_ice_concentration, icebreakers, applications, rib_accessibility = all_data[0][0], all_data[1][0], all_data[2][0], all_data[3][0]"
   ]
  },
  {
   "cell_type": "code",
   "execution_count": 299,
   "id": "24f1ede5-f58c-497b-ba08-7b3204b2b6cf",
   "metadata": {},
   "outputs": [
    {
     "data": {
      "text/plain": [
       "array([[0, 0, 0, 0, 0, 0, 0, 0, 0, 0, 0, 0, 0, 0, 0, 1, 1, 1, 1, 1, 1, 1,\n",
       "        1, 1, 1, 1, 1, 1, 1, 2],\n",
       "       [0, 1, 1, 1, 1, 2, 2, 2, 2, 2, 2, 2, 2, 3, 3, 3, 3, 3, 3, 3, 4, 4,\n",
       "        4, 4, 4, 4, 4, 5, 5, 5],\n",
       "       [1, 1, 1, 1, 2, 2, 2, 2, 2, 2, 3, 3, 3, 3, 3, 3, 3, 4, 4, 4, 4, 4,\n",
       "        5, 5, 5, 5, 6, 6, 6, 6],\n",
       "       [0, 0, 0, 0, 0, 0, 0, 0, 0, 0, 0, 0, 0, 0, 0, 1, 1, 1, 1, 1, 1, 1,\n",
       "        1, 1, 1, 1, 1, 1, 1, 2],\n",
       "       [0, 0, 0, 0, 0, 0, 0, 0, 0, 0, 0, 0, 0, 0, 1, 1, 1, 1, 1, 1, 1, 1,\n",
       "        1, 1, 1, 1, 1, 1, 2, 2],\n",
       "       [0, 0, 0, 1, 1, 1, 1, 1, 1, 1, 1, 1, 2, 2, 2, 2, 2, 3, 3, 3, 3, 3,\n",
       "        4, 4, 4, 4, 4, 5, 5, 6],\n",
       "       [1, 1, 1, 2, 2, 2, 2, 2, 2, 3, 3, 3, 3, 3, 3, 4, 4, 4, 4, 4, 5, 5,\n",
       "        5, 5, 6, 6, 6, 6, 6, 7],\n",
       "       [1, 1, 2, 2, 2, 2, 2, 2, 3, 3, 3, 3, 3, 3, 4, 4, 4, 4, 4, 5, 5, 5,\n",
       "        5, 6, 6, 6, 6, 6, 7, 7],\n",
       "       [2, 2, 2, 2, 3, 3, 3, 3, 4, 4, 4, 4, 4, 5, 5, 5, 5, 5, 6, 6, 6, 6,\n",
       "        7, 7, 7, 7, 7, 8, 8, 8],\n",
       "       [2, 2, 2, 3, 3, 3, 3, 4, 4, 4, 4, 4, 5, 5, 5, 5, 5, 6, 6, 6, 6, 7,\n",
       "        7, 7, 7, 7, 7, 8, 8, 8],\n",
       "       [3, 3, 3, 3, 3, 3, 3, 3, 4, 4, 4, 5, 5, 5, 5, 5, 6, 6, 6, 6, 7, 7,\n",
       "        7, 7, 7, 7, 7, 7, 7, 7],\n",
       "       [3, 3, 3, 3, 3, 3, 3, 3, 4, 4, 4, 5, 5, 5, 5, 5, 6, 6, 6, 6, 7, 7,\n",
       "        7, 7, 7, 7, 7, 7, 7, 7],\n",
       "       [3, 3, 3, 3, 3, 3, 3, 3, 4, 4, 4, 5, 5, 5, 5, 5, 6, 6, 6, 6, 7, 7,\n",
       "        7, 7, 7, 7, 7, 7, 7, 7],\n",
       "       [3, 3, 3, 3, 3, 3, 3, 3, 4, 4, 4, 4, 4, 4, 4, 5, 5, 5, 5, 5, 5, 6,\n",
       "        6, 6, 6, 7, 7, 7, 8, 9]])"
      ]
     },
     "execution_count": 299,
     "metadata": {},
     "output_type": "execute_result"
    }
   ],
   "source": [
    "monthly_ice_concentration = np.array(monthly_ice_concentration)[2:]\n",
    "monthly_ice_concentration = np.delete(monthly_ice_concentration, 0, axis=1)\n",
    "monthly_ice_concentration = monthly_ice_concentration.astype(int)\n",
    "monthly_ice_concentration"
   ]
  },
  {
   "cell_type": "code",
   "execution_count": 300,
   "id": "20e237d1-6b90-49c7-8fe3-a3a7e8f89943",
   "metadata": {},
   "outputs": [
    {
     "data": {
      "text/plain": [
       "array([['50 лет Победы', '9152959'],\n",
       "       ['Ямал', '9077549'],\n",
       "       ['Таймыр', '8417481'],\n",
       "       ['Вайгач', '8417493']], dtype='<U13')"
      ]
     },
     "execution_count": 300,
     "metadata": {},
     "output_type": "execute_result"
    }
   ],
   "source": [
    "icebreakers = np.array(icebreakers)[1:]\n",
    "icebreakers"
   ]
  },
  {
   "cell_type": "code",
   "execution_count": 301,
   "id": "1f367051-1c0b-41e5-b2ea-7406044b1bfc",
   "metadata": {},
   "outputs": [
    {
     "data": {
      "text/plain": [
       "array([['Штурман Альбанов', '9752084', 'Arc7', '15',\n",
       "        'точка в Баренцевом море', 'Саббета 3', '01.01.21 23:30',\n",
       "        '05.01.21 5:00'],\n",
       "       ['Штурман Альбанов', '9752084', 'Arc7', '15', 'Саббета 3',\n",
       "        'точка в Баренцевом море', '06.01.21 11:00', '10.01.21 18:00'],\n",
       "       ['Штурман Альбанов', '9752084', 'Arc7', '15',\n",
       "        'точка в Баренцевом море', 'Саббета 3', '12.01.21 18:00',\n",
       "        '16.01.21 22:00'],\n",
       "       ['Штурман Альбанов', '9752084', 'Arc7', '15', 'Саббета 3',\n",
       "        'точка в Баренцевом море', '17.01.21 6:00', '21.01.21 20:45'],\n",
       "       ['Штурман Альбанов', '9752084', 'Arc7', '15',\n",
       "        'точка в Баренцевом море', 'Саббета 3', '21.01.21 9:00',\n",
       "        '26.01.21 22:00'],\n",
       "       ['Штурман Альбанов', '9752084', 'Arc7', '15', 'Саббета 3',\n",
       "        'точка в Баренцевом море', '28.01.21 1:00', '02.02.21 19:00'],\n",
       "       ['Штурман Кошелев', '9759939', 'Arc7', '15', 'Саббета 3',\n",
       "        'точка в Баренцевом море', '02.01.21 20:30', '06.01.21 7:00'],\n",
       "       ['Штурман Кошелев', '9759939', 'Arc7', '15',\n",
       "        'точка в Баренцевом море', 'Саббета 3', '07.01.21 19:00',\n",
       "        '11.01.21 3:20'],\n",
       "       ['Штурман Кошелев', '9759939', 'Arc7', '15', 'Саббета 3',\n",
       "        'точка в Баренцевом море', '13.01.21 16:00', '17.01.21 14:00'],\n",
       "       ['Штурман Кошелев', '9759939', 'Arc7', '15',\n",
       "        'точка в Баренцевом море', 'Саббета 3', '17.01.21 13:00',\n",
       "        '21.01.21 16:20'],\n",
       "       ['Штурман Кошелев', '9759939', 'Arc7', '15', 'Саббета 3',\n",
       "        'точка в Баренцевом море', '22.01.21 7:30', '26.01.21 19:00'],\n",
       "       ['Штурман Кошелев', '9759939', 'Arc7', '15',\n",
       "        'точка в Баренцевом море', 'Саббета 3', '28.01.21 2:00',\n",
       "        '03.02.21 19:00'],\n",
       "       ['Лагорта', '9194012', 'Arc5', '15', 'точка в Баренцевом море',\n",
       "        'Саббета 3', '27.12.20 23:00', '07.01.21 17:00'],\n",
       "       ['Лагорта', '9194012', 'Arc5', '15', 'Саббета 3',\n",
       "        'точка в Баренцевом море', '20.01.21 15:00', '30.01.21 22:00'],\n",
       "       ['Михаил Лазарев', '9837547', 'Arc7', '15', 'Саббета 2',\n",
       "        'точка в Баренцевом море', '14.01.21 22:00', '18.01.21 10:00'],\n",
       "       ['Михаил Лазарев', '9837547', 'Arc7', '15',\n",
       "        'точка в Баренцевом море', 'Саббета 2', '19.01.21 12:00',\n",
       "        '23.01.21 12:00'],\n",
       "       ['Юрий Кучиев', '9804033', 'Arc7', '14', 'Саббета 1',\n",
       "        'точка в Баренцевом море', '07.01.21 0:00', '10.01.21 14:00'],\n",
       "       ['Юрий Кучиев', '9804033', 'Arc7', '14',\n",
       "        'точка в Баренцевом море', 'Саббета 1', '26.01.21 22:00',\n",
       "        '31.01.21 20:00'],\n",
       "       ['Эдуард Толль', '9750696', 'Arc7', '19',\n",
       "        'точка в Баренцевом море', 'Саббета 1', '01.01.21 17:30',\n",
       "        '04.01.21 5:00'],\n",
       "       ['Эдуард Толль', '9750696', 'Arc7', '19', 'Саббета 1',\n",
       "        'точка в Баренцевом море', '07.01.21 17:00', '11.01.21 12:30'],\n",
       "       ['Борис Давыдов', '9768394', 'Arc7', '19',\n",
       "        'точка в Баренцевом море', 'Саббета 1', '08.01.21 22:00',\n",
       "        '10.01.21 14:15'],\n",
       "       ['Владимир Воронин', '9750737', 'Arc7', '19',\n",
       "        'точка в Баренцевом море', 'Саббета 1', '16.01.21 18:00',\n",
       "        '18.01.21 19:00'],\n",
       "       ['Владимир Воронин', '9750737', 'Arc7', '19', 'Саббета 1',\n",
       "        'точка в Баренцевом море', '26.01.21 10:00', '29.01.21 22:30'],\n",
       "       ['Владимир Русанов', '9750701', 'Arc7', '19', 'Саббета 1',\n",
       "        'точка в Баренцевом море', '01.01.21 0:00', '03.01.21 12:45'],\n",
       "       ['Арктика-2', '9243801', 'Arc5', '14', 'точка в Баренцевом море',\n",
       "        'Саббета 2', '13.01.21 1:30', '16.01.21 9:30'],\n",
       "       ['Арктика-2', '9243801', 'Arc5', '14', 'Саббета 2',\n",
       "        'точка в Баренцевом море', '24.01.21 21:00', '28.01.21 21:00'],\n",
       "       ['РЗК Константа', '8711289', 'Arc5', '15', 'Сабетта 2',\n",
       "        'точка в Баренцевом море', '29.12.20 15:00', '02.01.21 19:30'],\n",
       "       ['РЗК Константа', '8711289', 'Arc5', '15',\n",
       "        'точка в Баренцевом море', 'Сабетта 1', '09.01.21 3:00',\n",
       "        '13.01.21 21:30'],\n",
       "       ['РЗК Константа', '8711289', 'Arc5', '15', 'Сабетта 1',\n",
       "        'точка в Баренцевом море', '19.01.21 4:00', '22.01.21 18:00'],\n",
       "       ['Беринг', '9267297', 'Arc4', '14', 'Сабетта 2',\n",
       "        'точка в Баренцевом море', '05.01.21 21:00', '08.01.21 10:00'],\n",
       "       ['Беринг', '9267297', 'Arc4', '14', 'точка в Баренцевом море',\n",
       "        'Сабетта 2', '24.01.21 10:00', '28.01.21 22:00'],\n",
       "       ['Северный проект', '9202053', 'Arc4', '12',\n",
       "        'точка в Баренцевом море', 'Сабетта 2', '23.01.21 0:30',\n",
       "        '30.01.21 21:00'],\n",
       "       ['Мыс Желания', '9366110', 'Arc4', '16',\n",
       "        'точка в Баренцевом море', 'Сабетта 2', '31.12.20 12:00',\n",
       "        '02.01.21 12:00'],\n",
       "       ['Мыс Желания', '9366110', 'Arc4', '16', 'Сабетта 2',\n",
       "        'точка в Баренцевом море', '16.01.021 12:30', '19.01.21 22:00'],\n",
       "       ['Мыс Желания', '9366110', 'Arc4', '16',\n",
       "        'точка в Баренцевом море', 'Сабетта 2', '29.01.21 10:00',\n",
       "        '01.02.2021  23:30:00:00'],\n",
       "       ['Никифор Бегичев', '9014896', 'Arc4', '14',\n",
       "        'точка в Баренцевом море', 'Сабетта 2', '16.01.21 3:00',\n",
       "        '20.01.21 3:00'],\n",
       "       ['Никифор Бегичев', '9014896', 'Arc4', '14', 'Сабетта 2 ',\n",
       "        'точка в Баренцевом море', '22.01.21 3:00', '26.01.21 22:00'],\n",
       "       ['LNG PHECDA', '9834313', 'No ice class', '18',\n",
       "        'точка в Баренцевом море', 'Сабетта 1', '02.01.21 12:30',\n",
       "        '04.01.21 12:00'],\n",
       "       ['LNG PHECDA', '9834313', 'No ice class', '18', 'Сабетта 1',\n",
       "        'точка в Баренцевом море', '04.01.21 11:00', '06.01.21 14:00'],\n",
       "       ['LNG PHECDA', '9834313', 'No ice class', '18',\n",
       "        'точка в Баренцевом море', 'Сабетта 1', '16.01.21 9:00',\n",
       "        '18.01.21 16:30'],\n",
       "       ['LNG PHECDA', '9834313', 'No ice class', '18', 'Сабетта 1',\n",
       "        'точка в Баренцевом море', '20.01.21 9:00', '22.01.21 22:00'],\n",
       "       ['LNG DUBHE', '9834296', 'No ice class', '16',\n",
       "        'точка в Баренцевом море', 'Сабетта 1', '02.01.21 0:30',\n",
       "        '03.01.21 23:30'],\n",
       "       ['LNG DUBHE', '9834296', 'No ice class', '16', 'Сабетта 1',\n",
       "        'точка в Баренцевом море', '06.01.21 15:00', '08.01.21 16:00'],\n",
       "       ['LNG DUBHE', '9834296', 'No ice class', '16',\n",
       "        'точка в Баренцевом море', 'Сабетта 1', '12.01.21 10:00',\n",
       "        '14.01.21 16:30'],\n",
       "       ['LNG DUBHE', '9834296', 'No ice class', '16', 'Сабетта 1',\n",
       "        'точка в Баренцевом море', '13.01.21 19:30', '15.01.21 10:00'],\n",
       "       ['LNG DUBHE', '9834296', 'No ice class', '16',\n",
       "        'точка в Баренцевом море', 'Сабетта 1', '22.01.21 7:00',\n",
       "        '24.01.21 18:30'],\n",
       "       ['LNG DUBHE', '9834296', 'No ice class', '16', 'Сабетта 1',\n",
       "        'точка в Баренцевом море', '23.01.21 0:30', '25.01.21 23:30']],\n",
       "      dtype='<U31')"
      ]
     },
     "execution_count": 301,
     "metadata": {},
     "output_type": "execute_result"
    }
   ],
   "source": [
    "applications = np.array(applications)[1:]\n",
    "applications"
   ]
  },
  {
   "cell_type": "code",
   "execution_count": 302,
   "id": "046a3864-b156-437d-9a09-1b3c0494638b",
   "metadata": {},
   "outputs": [
    {
     "data": {
      "text/plain": [
       "array([[ 1,  1,  1,  1,  1],\n",
       "       [ 2,  1,  1,  1,  1],\n",
       "       [ 3,  1,  1,  1,  1],\n",
       "       [ 4,  1,  1,  1,  1],\n",
       "       [ 5,  1,  1,  1,  1],\n",
       "       [ 6,  1,  1,  1,  1],\n",
       "       [ 7,  1,  1,  1,  1],\n",
       "       [ 8,  1,  1,  1,  1],\n",
       "       [ 9,  1,  1,  1,  1],\n",
       "       [10,  1,  1,  1,  1],\n",
       "       [11,  1,  1,  1,  1],\n",
       "       [12,  1,  1,  1,  1],\n",
       "       [13,  1,  1,  1,  1],\n",
       "       [14,  0,  0,  1,  1]])"
      ]
     },
     "execution_count": 302,
     "metadata": {},
     "output_type": "execute_result"
    }
   ],
   "source": [
    "rib_accessibility = np.array(rib_accessibility)[1:]\n",
    "rib_accessibility = rib_accessibility.astype(int)\n",
    "rib_accessibility"
   ]
  },
  {
   "cell_type": "code",
   "execution_count": 303,
   "id": "68f1f38b-7bb7-4c73-b2d1-a0cf9e7ff491",
   "metadata": {},
   "outputs": [],
   "source": [
    "np.save('monthly_ice_concentration.npy', monthly_ice_concentration)\n",
    "np.save('icebreakers.npy', icebreakers)\n",
    "np.save('applications.npy', applications)\n",
    "np.save('rib_accessibility.npy', rib_accessibility)"
   ]
  },
  {
   "cell_type": "code",
   "execution_count": null,
   "id": "4278d243-b27e-4e84-9a7d-c672d0959b90",
   "metadata": {},
   "outputs": [],
   "source": [
    "# коодринаты в растояние"
   ]
  },
  {
   "cell_type": "code",
   "execution_count": 307,
   "id": "a784a2cd-83a2-4e9d-9fe8-04c5247ad3ef",
   "metadata": {},
   "outputs": [],
   "source": [
    "with open('geo_cord.json', 'r') as json_file:\n",
    "    # Load the JSON data from the file into a Python data structure\n",
    "    data = json.load(json_file)"
   ]
  },
  {
   "cell_type": "code",
   "execution_count": 335,
   "id": "6ddc0759-ac52-44c9-8eb1-a6999508379f",
   "metadata": {},
   "outputs": [],
   "source": [
    "data_cords = list()\n",
    "for item in range(14):\n",
    "    cord1 = tuple(data['features'][item]['geometry']['coordinates'][0])\n",
    "    cord2 = tuple(data['features'][item]['geometry']['coordinates'][1])\n",
    "    distance = geodesic(cord1, cord2).miles\n",
    "    data_cords.append(distance)"
   ]
  },
  {
   "cell_type": "code",
   "execution_count": 336,
   "id": "7782a886-6cd9-491e-8fa7-b97189dc4700",
   "metadata": {},
   "outputs": [
    {
     "data": {
      "text/plain": [
       "[802.3844775732041,\n",
       " 594.2540890772044,\n",
       " 370.12977626198835,\n",
       " 672.2298286650752,\n",
       " 962.4130145654461,\n",
       " 201.9950962300714,\n",
       " 111.7413453491566,\n",
       " 62.52612185246047,\n",
       " 76.98144452489322,\n",
       " 27.755861003897596,\n",
       " 27.456556499021453,\n",
       " 50.741262742082476,\n",
       " 27.072802307045126,\n",
       " 47.852922434718344]"
      ]
     },
     "execution_count": 336,
     "metadata": {},
     "output_type": "execute_result"
    }
   ],
   "source": [
    "np.save(np.array(data_cords))"
   ]
  },
  {
   "cell_type": "code",
   "execution_count": null,
   "id": "1106d6c2-5afd-4970-9a53-391037f42431",
   "metadata": {},
   "outputs": [],
   "source": []
  }
 ],
 "metadata": {
  "kernelspec": {
   "display_name": "Python 3.8 (pytorch)",
   "language": "python",
   "name": "pytorch"
  },
  "language_info": {
   "codemirror_mode": {
    "name": "ipython",
    "version": 3
   },
   "file_extension": ".py",
   "mimetype": "text/x-python",
   "name": "python",
   "nbconvert_exporter": "python",
   "pygments_lexer": "ipython3",
   "version": "3.8.17"
  }
 },
 "nbformat": 4,
 "nbformat_minor": 5
}
