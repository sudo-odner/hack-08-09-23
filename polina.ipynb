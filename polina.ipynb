{
 "cells": [
  {
   "cell_type": "code",
   "execution_count": null,
   "metadata": {},
   "outputs": [],
   "source": [
    "print(\"I'm biba\")"
   ]
  },
  {
   "cell_type": "code",
   "execution_count": null,
   "id": "b5a8f354",
   "metadata": {},
   "outputs": [],
   "source": [
    "print(\"It's a pity, that Boba is in NN\")"
   ]
  }
 ],
 "metadata": {
  "language_info": {
   "name": "python"
  }
 },
 "nbformat": 4,
 "nbformat_minor": 5
}
